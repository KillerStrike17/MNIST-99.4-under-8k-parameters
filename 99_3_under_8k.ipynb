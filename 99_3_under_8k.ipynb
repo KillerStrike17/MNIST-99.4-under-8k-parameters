{
  "cells": [
    {
      "cell_type": "code",
      "execution_count": 1,
      "metadata": {
        "id": "Sb6o6mtZ93Rs"
      },
      "outputs": [],
      "source": [
        "# Importing all the libraries in\n",
        "import torch # Import pytorch\n",
        "import torch.nn as nn # For creating Neural Network Models\n",
        "import torch.nn.functional as F #\n",
        "import torch.optim as optim # Importing optimizer from pytorch library\n",
        "from torchvision import datasets, transforms # Importing datasets and transform function to run over the dataset\n",
        "# !pip install torchsummary # Installing Torch summary to view the model summary\n",
        "from torchsummary import summary # Importing the summary function from the installed torchsummary library\n",
        "from tqdm.auto import tqdm\n",
        "%matplotlib inline\n",
        "import matplotlib.pyplot as plt # To plot graphs\n",
        "from utils import data_transformation, plot_dataset,plot_train"
      ]
    },
    {
      "cell_type": "code",
      "execution_count": 2,
      "metadata": {
        "colab": {
          "base_uri": "https://localhost:8080/"
        },
        "id": "D_WMGYRL93Rv",
        "outputId": "827b99cd-e625-41b8-a344-0b1f09ee3bdf"
      },
      "outputs": [
        {
          "data": {
            "text/plain": [
              "device(type='cuda')"
            ]
          },
          "execution_count": 2,
          "metadata": {},
          "output_type": "execute_result"
        }
      ],
      "source": [
        "  # checking if Cuda is available, it is available it returns True, else returns False\n",
        "use_cuda = torch.cuda.is_available()\n",
        "device = torch.device(\"cuda\" if use_cuda else \"cpu\") # Assign Device to Cuda or CPU based on avaiablily\n",
        "\n",
        "torch.manual_seed(1)\n",
        "# if cuda:\n",
        "torch.cuda.manual_seed(1)\n",
        "device"
      ]
    },
    {
      "cell_type": "code",
      "execution_count": 3,
      "metadata": {
        "colab": {
          "base_uri": "https://localhost:8080/"
        },
        "id": "XhuEKsTI3xv3",
        "outputId": "ddeab328-0297-4f66-a121-89a984d82ea1"
      },
      "outputs": [
        {
          "name": "stderr",
          "output_type": "stream",
          "text": [
            "/usr/local/lib/python3.10/dist-packages/torch/utils/data/dataloader.py:560: UserWarning: This DataLoader will create 4 worker processes in total. Our suggested max number of worker in current system is 2, which is smaller than what this DataLoader is going to create. Please be aware that excessive worker creation might get DataLoader running slow or even freeze, lower the worker number to avoid potential slowness/freeze if necessary.\n",
            "  warnings.warn(_create_warning_msg(\n"
          ]
        }
      ],
      "source": [
        "# current Batch size is set to 128, meaning the dataset will be split in different batches,\n",
        "# each batch will contain 128 datapoints or here images.\n",
        "batch_size = 128\n",
        "\n",
        "# Calling a Dataloader function that takes in the dataset, batchsize and shuffle.\n",
        "# Here the dataset is mnist and is loaded from the datasets function loaded from\n",
        "# torch vision library\n",
        "train_loader = torch.utils.data.DataLoader(\n",
        "    # loading MNIST dataset to data directory, train is true therefore loading the\n",
        "    # dataset from the training directory, download is true indicating the data needs\n",
        "    # to be downloaded. Performing a Transformation Operation, here there are two operations\n",
        "    # ToTensor and Normalize and each is performed one after the other. ToTensor operation is\n",
        "    # used to convert it tensor and Normalize takes in mean and std of the dataset to normalize\n",
        "    # in the input image. shuffle indicates the data will be loaded randomly\n",
        "    datasets.MNIST('../data', train=True, download=True,\n",
        "                    transform=transforms.Compose([\n",
        "                        transforms.RandomApply([transforms.CenterCrop(22), ], p=0.1),\n",
        "                        transforms.Resize((28, 28)),\n",
        "                        transforms.RandomRotation((-15., 15.), fill=0),\n",
        "                        transforms.ToTensor(),\n",
        "                        transforms.Normalize((0.1307,), (0.3081,)\n",
        "                        ) # these are the MNIST dataset mean and std values of dataset set\n",
        "                    ])),\n",
        "\n",
        "    batch_size=batch_size, shuffle=True,num_workers = 4,pin_memory = True)\n",
        "  # Performing the same operation to create the test data, therefore train is set to false and\n",
        "  # is loaded to test_loader\n",
        "test_loader = torch.utils.data.DataLoader(\n",
        "    datasets.MNIST('../data', train=False, transform=transforms.Compose([\n",
        "                        transforms.ToTensor(),\n",
        "                        transforms.Normalize((0.1307,), (0.3081,)) # these are the MNIST dataset mean and std values of training set\n",
        "                    ])),\n",
        "    batch_size=batch_size, shuffle=True,num_workers = 4,pin_memory = True)"
      ]
    },
    {
      "cell_type": "code",
      "execution_count": 4,
      "metadata": {
        "colab": {
          "base_uri": "https://localhost:8080/"
        },
        "id": "qv90WaXFjQx_",
        "outputId": "62f0b398-26fe-47f5-9408-11df4b6c5e33"
      },
      "outputs": [
        {
          "name": "stdout",
          "output_type": "stream",
          "text": [
            "----------------------------------------------------------------\n",
            "        Layer (type)               Output Shape         Param #\n",
            "================================================================\n",
            "            Conv2d-1            [-1, 7, 26, 26]              63\n",
            "       BatchNorm2d-2            [-1, 7, 26, 26]              14\n",
            "         Dropout2d-3            [-1, 7, 26, 26]               0\n",
            "            Conv2d-4           [-1, 16, 24, 24]           1,008\n",
            "       BatchNorm2d-5           [-1, 16, 24, 24]              32\n",
            "         Dropout2d-6           [-1, 16, 24, 24]               0\n",
            "            Conv2d-7           [-1, 12, 24, 24]             192\n",
            "         MaxPool2d-8           [-1, 12, 12, 12]               0\n",
            "            Conv2d-9           [-1, 16, 10, 10]           1,728\n",
            "      BatchNorm2d-10           [-1, 16, 10, 10]              32\n",
            "        Dropout2d-11           [-1, 16, 10, 10]               0\n",
            "           Conv2d-12             [-1, 16, 8, 8]           2,304\n",
            "      BatchNorm2d-13             [-1, 16, 8, 8]              32\n",
            "        Dropout2d-14             [-1, 16, 8, 8]               0\n",
            "           Conv2d-15             [-1, 16, 6, 6]           2,304\n",
            "      BatchNorm2d-16             [-1, 16, 6, 6]              32\n",
            "        Dropout2d-17             [-1, 16, 6, 6]               0\n",
            "           Conv2d-18             [-1, 10, 6, 6]             160\n",
            "        AvgPool2d-19             [-1, 10, 1, 1]               0\n",
            "================================================================\n",
            "Total params: 7,901\n",
            "Trainable params: 7,901\n",
            "Non-trainable params: 0\n",
            "----------------------------------------------------------------\n",
            "Input size (MB): 0.00\n",
            "Forward/backward pass size (MB): 0.46\n",
            "Params size (MB): 0.03\n",
            "Estimated Total Size (MB): 0.49\n",
            "----------------------------------------------------------------\n",
            "Epoch 1\n"
          ]
        },
        {
          "name": "stderr",
          "output_type": "stream",
          "text": [
            "loss=0.30344071984291077 batch_id=468 Accuracy = 79.71: 100%|██████████| 469/469 [00:24<00:00, 19.44it/s]\n"
          ]
        },
        {
          "name": "stdout",
          "output_type": "stream",
          "text": [
            "\n",
            "Test set: Average loss: 0.1004, Accuracy: 9722/10000 (97.22%)\n",
            "\n",
            "Epoch 2\n"
          ]
        },
        {
          "name": "stderr",
          "output_type": "stream",
          "text": [
            "loss=0.10349491983652115 batch_id=468 Accuracy = 94.15: 100%|██████████| 469/469 [00:29<00:00, 15.77it/s]\n"
          ]
        },
        {
          "name": "stdout",
          "output_type": "stream",
          "text": [
            "\n",
            "Test set: Average loss: 0.0613, Accuracy: 9812/10000 (98.12%)\n",
            "\n",
            "Epoch 3\n"
          ]
        },
        {
          "name": "stderr",
          "output_type": "stream",
          "text": [
            "loss=0.0937020555138588 batch_id=468 Accuracy = 95.56: 100%|██████████| 469/469 [00:26<00:00, 17.72it/s]\n"
          ]
        },
        {
          "name": "stdout",
          "output_type": "stream",
          "text": [
            "\n",
            "Test set: Average loss: 0.0477, Accuracy: 9849/10000 (98.49%)\n",
            "\n",
            "Epoch 4\n"
          ]
        },
        {
          "name": "stderr",
          "output_type": "stream",
          "text": [
            "loss=0.05214555561542511 batch_id=468 Accuracy = 96.15: 100%|██████████| 469/469 [00:24<00:00, 18.84it/s]\n"
          ]
        },
        {
          "name": "stdout",
          "output_type": "stream",
          "text": [
            "\n",
            "Test set: Average loss: 0.0461, Accuracy: 9862/10000 (98.62%)\n",
            "\n",
            "Epoch 5\n"
          ]
        },
        {
          "name": "stderr",
          "output_type": "stream",
          "text": [
            "loss=0.13194453716278076 batch_id=468 Accuracy = 96.71: 100%|██████████| 469/469 [00:25<00:00, 18.40it/s]\n"
          ]
        },
        {
          "name": "stdout",
          "output_type": "stream",
          "text": [
            "\n",
            "Test set: Average loss: 0.0357, Accuracy: 9890/10000 (98.90%)\n",
            "\n",
            "Epoch 6\n"
          ]
        },
        {
          "name": "stderr",
          "output_type": "stream",
          "text": [
            "loss=0.06745871156454086 batch_id=468 Accuracy = 96.95: 100%|██████████| 469/469 [00:25<00:00, 18.72it/s]\n"
          ]
        },
        {
          "name": "stdout",
          "output_type": "stream",
          "text": [
            "\n",
            "Test set: Average loss: 0.0342, Accuracy: 9896/10000 (98.96%)\n",
            "\n",
            "Epoch 7\n"
          ]
        },
        {
          "name": "stderr",
          "output_type": "stream",
          "text": [
            "loss=0.1994321346282959 batch_id=468 Accuracy = 96.97: 100%|██████████| 469/469 [00:24<00:00, 18.85it/s]\n"
          ]
        },
        {
          "name": "stdout",
          "output_type": "stream",
          "text": [
            "\n",
            "Test set: Average loss: 0.0335, Accuracy: 9897/10000 (98.97%)\n",
            "\n",
            "Epoch 8\n"
          ]
        },
        {
          "name": "stderr",
          "output_type": "stream",
          "text": [
            "loss=0.11697546392679214 batch_id=468 Accuracy = 97.01: 100%|██████████| 469/469 [00:26<00:00, 17.93it/s]\n"
          ]
        },
        {
          "name": "stdout",
          "output_type": "stream",
          "text": [
            "\n",
            "Test set: Average loss: 0.0325, Accuracy: 9903/10000 (99.03%)\n",
            "\n",
            "Epoch 9\n"
          ]
        },
        {
          "name": "stderr",
          "output_type": "stream",
          "text": [
            "loss=0.07640081644058228 batch_id=468 Accuracy = 96.90: 100%|██████████| 469/469 [00:24<00:00, 18.88it/s]\n"
          ]
        },
        {
          "name": "stdout",
          "output_type": "stream",
          "text": [
            "\n",
            "Test set: Average loss: 0.0325, Accuracy: 9906/10000 (99.06%)\n",
            "\n",
            "Epoch 10\n"
          ]
        },
        {
          "name": "stderr",
          "output_type": "stream",
          "text": [
            "loss=0.06760118156671524 batch_id=468 Accuracy = 97.03: 100%|██████████| 469/469 [00:25<00:00, 18.57it/s]\n"
          ]
        },
        {
          "name": "stdout",
          "output_type": "stream",
          "text": [
            "\n",
            "Test set: Average loss: 0.0322, Accuracy: 9907/10000 (99.07%)\n",
            "\n",
            "Epoch 11\n"
          ]
        },
        {
          "name": "stderr",
          "output_type": "stream",
          "text": [
            "loss=0.06474322080612183 batch_id=468 Accuracy = 97.03: 100%|██████████| 469/469 [00:25<00:00, 18.70it/s]\n"
          ]
        },
        {
          "name": "stdout",
          "output_type": "stream",
          "text": [
            "\n",
            "Test set: Average loss: 0.0324, Accuracy: 9907/10000 (99.07%)\n",
            "\n",
            "Epoch 12\n"
          ]
        },
        {
          "name": "stderr",
          "output_type": "stream",
          "text": [
            "loss=0.07946740090847015 batch_id=468 Accuracy = 97.00: 100%|██████████| 469/469 [00:24<00:00, 19.42it/s]\n"
          ]
        },
        {
          "name": "stdout",
          "output_type": "stream",
          "text": [
            "\n",
            "Test set: Average loss: 0.0325, Accuracy: 9906/10000 (99.06%)\n",
            "\n",
            "Epoch 13\n"
          ]
        },
        {
          "name": "stderr",
          "output_type": "stream",
          "text": [
            "loss=0.10915076732635498 batch_id=468 Accuracy = 97.14: 100%|██████████| 469/469 [00:24<00:00, 19.01it/s]\n"
          ]
        },
        {
          "name": "stdout",
          "output_type": "stream",
          "text": [
            "\n",
            "Test set: Average loss: 0.0323, Accuracy: 9908/10000 (99.08%)\n",
            "\n",
            "Epoch 14\n"
          ]
        },
        {
          "name": "stderr",
          "output_type": "stream",
          "text": [
            "loss=0.16429011523723602 batch_id=468 Accuracy = 97.07: 100%|██████████| 469/469 [00:24<00:00, 18.78it/s]\n"
          ]
        },
        {
          "name": "stdout",
          "output_type": "stream",
          "text": [
            "\n",
            "Test set: Average loss: 0.0323, Accuracy: 9906/10000 (99.06%)\n",
            "\n",
            "Epoch 15\n"
          ]
        },
        {
          "name": "stderr",
          "output_type": "stream",
          "text": [
            "loss=0.2500208914279938 batch_id=468 Accuracy = 97.04: 100%|██████████| 469/469 [00:24<00:00, 18.81it/s]\n"
          ]
        },
        {
          "name": "stdout",
          "output_type": "stream",
          "text": [
            "\n",
            "Test set: Average loss: 0.0325, Accuracy: 9907/10000 (99.07%)\n",
            "\n"
          ]
        }
      ],
      "source": [
        "from model import Net2\n",
        "model = Net2().to(device)\n",
        "summary(model, input_size=(1, 28, 28))\n",
        "optimizer = optim.SGD(model.parameters(), lr=0.01, momentum=0.9)\n",
        "scheduler = optim.lr_scheduler.StepLR(optimizer, step_size=4, gamma=0.1, verbose=False)\n",
        "num_epochs = 15\n",
        "train_acc,train_losses,test_acc,test_losses = model.run(num_epochs,model,device,train_loader,test_loader,optimizer, scheduler)"
      ]
    }
  ],
  "metadata": {
    "accelerator": "GPU",
    "colab": {
      "gpuType": "T4",
      "provenance": []
    },
    "kernelspec": {
      "display_name": "Python 3",
      "name": "python3"
    },
    "language_info": {
      "codemirror_mode": {
        "name": "ipython",
        "version": 3
      },
      "file_extension": ".py",
      "mimetype": "text/x-python",
      "name": "python",
      "nbconvert_exporter": "python",
      "pygments_lexer": "ipython3",
      "version": "3.8.16"
    },
    "orig_nbformat": 4
  },
  "nbformat": 4,
  "nbformat_minor": 0
}
